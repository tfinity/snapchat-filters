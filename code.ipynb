{
 "cells": [
  {
   "cell_type": "code",
   "execution_count": 1,
   "metadata": {},
   "outputs": [
    {
     "name": "stdout",
     "output_type": "stream",
     "text": [
      "Requirement already satisfied: opencv-python in c:\\users\\talha\\anaconda3\\lib\\site-packages (4.5.5.64)\n",
      "Requirement already satisfied: numpy>=1.17.3 in c:\\users\\talha\\anaconda3\\lib\\site-packages (from opencv-python) (1.20.3)\n",
      "Note: you may need to restart the kernel to use updated packages.\n",
      "Collecting cvzone\n",
      "  Downloading cvzone-1.5.6.tar.gz (12 kB)\n",
      "Requirement already satisfied: opencv-python in c:\\users\\talha\\anaconda3\\lib\\site-packages (from cvzone) (4.5.5.64)\n",
      "Requirement already satisfied: numpy in c:\\users\\talha\\anaconda3\\lib\\site-packages (from cvzone) (1.20.3)\n",
      "Building wheels for collected packages: cvzone\n",
      "  Building wheel for cvzone (setup.py): started\n",
      "  Building wheel for cvzone (setup.py): finished with status 'done'\n",
      "  Created wheel for cvzone: filename=cvzone-1.5.6-py3-none-any.whl size=18767 sha256=2ab3ea978c25fa3682023e6f877c1fb0897140e40318d991d27c58756b2488fa\n",
      "  Stored in directory: c:\\users\\talha\\appdata\\local\\pip\\cache\\wheels\\6f\\ec\\e5\\c576c2f2fa138207498bbbfc8eefb1f0a2efbba7c847742948\n",
      "Successfully built cvzone\n",
      "Installing collected packages: cvzone\n",
      "Successfully installed cvzone-1.5.6\n",
      "Note: you may need to restart the kernel to use updated packages.\n"
     ]
    }
   ],
   "source": [
    "%pip install opencv-python\n",
    "%pip install cvzone"
   ]
  },
  {
   "cell_type": "code",
   "execution_count": 87,
   "metadata": {},
   "outputs": [
    {
     "name": "stdout",
     "output_type": "stream",
     "text": [
      "in exit\n"
     ]
    }
   ],
   "source": [
    "index = 0\n",
    "names=[\"sunglass.png\",\"star.png\",\"native.png\",\"cool.png\",\"beard.png\",\"pirate.png\",\"thug.png\",\"thuglife.png\"]\n",
    "xes=[0,0,90,45,55,65,0,110]\n",
    "yes=[0,0,125,100,100,100,0,10]\n",
    "wes=[1,1,1.8,1.5,1.5,1.5,1,1.8]\n",
    "hes=[1,1,1.8,1.5,1.5,1.5,1,1.8]\n",
    "\n",
    "\n",
    "from cv2 import cv2\n",
    "import  cvzone\n",
    "cap = cv2.VideoCapture(0)\n",
    "cascade = cv2.CascadeClassifier('haarcascade_frontalface_default.xml')\n",
    "exit =False\n",
    "while True:\n",
    "    overlay = cv2.imread(names[index], cv2.IMREAD_UNCHANGED)\n",
    "    while True:\n",
    "        _, frame = cap.read()\n",
    "        gray_scale = cv2.cvtColor(frame, cv2.COLOR_BGR2GRAY)\n",
    "        faces = cascade.detectMultiScale(gray_scale)\n",
    "        for (x, y, w, h) in faces:\n",
    "            cv2.rectangle(frame,(x, y), (x+w, y+h), (0, 255, 0), 2)\n",
    "            w_scale=wes[index]\n",
    "            h_scale=hes[index]\n",
    "            \n",
    "            overlay_resize = cv2.resize(overlay, (int(w*w_scale), int(h*h_scale)),interpolation=cv2.INTER_AREA)\n",
    "            \n",
    "            frame = cvzone.overlayPNG(frame, overlay_resize, [x-xes[index], y-yes[index]])\n",
    "        cv2.imshow('Snap Dude', frame)\n",
    "        if cv2.waitKey(10) == ord('n'):\n",
    "            index=index+1\n",
    "            if index==len(names):\n",
    "                index=0\n",
    "            print(w_scale)\n",
    "            print(h_scale)\n",
    "            #print(index)\n",
    "            break\n",
    "        elif cv2.waitKey(10) == ord('p'):\n",
    "            index=index-1\n",
    "            if index==-1:\n",
    "                index=len(names)-1\n",
    "            #print(index)\n",
    "            break\n",
    "        elif cv2.waitKey(10) == ord('q'):\n",
    "            print(\"in exit\")\n",
    "            exit=True\n",
    "            break\n",
    "    if exit:\n",
    "            break\n",
    "cv2.waitKey(0)\n",
    "cap.release()\n",
    "cv2.destroyAllWindows()"
   ]
  }
 ],
 "metadata": {
  "kernelspec": {
   "display_name": "Python 3.9.7 ('base')",
   "language": "python",
   "name": "python3"
  },
  "language_info": {
   "codemirror_mode": {
    "name": "ipython",
    "version": 3
   },
   "file_extension": ".py",
   "mimetype": "text/x-python",
   "name": "python",
   "nbconvert_exporter": "python",
   "pygments_lexer": "ipython3",
   "version": "3.9.7"
  },
  "orig_nbformat": 4,
  "vscode": {
   "interpreter": {
    "hash": "2a5bab918500c3a27c83c494b562b57d38406af52f32585b0235d82cba8b1288"
   }
  }
 },
 "nbformat": 4,
 "nbformat_minor": 2
}
